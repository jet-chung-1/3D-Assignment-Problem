{
 "cells": [
  {
   "cell_type": "code",
   "execution_count": 3,
   "id": "5432ee42",
   "metadata": {},
   "outputs": [],
   "source": [
    "import numpy as np\n",
    "import timeit\n",
    "import matplotlib.pyplot as plt"
   ]
  },
  {
   "cell_type": "code",
   "execution_count": 4,
   "id": "4965f516",
   "metadata": {},
   "outputs": [],
   "source": [
    "from main import Solver\n",
    "from gurobi_solver import GurobiSolver\n",
    "from pulp_solver import PulpSolver"
   ]
  },
  {
   "cell_type": "code",
   "execution_count": 5,
   "id": "a5cd7843",
   "metadata": {},
   "outputs": [],
   "source": [
    "def create_problems(N, num_problems, verbosity=True):\n",
    "    \"\"\"\n",
    "    Create random problem instances.\n",
    "\n",
    "    Parameters:\n",
    "        N: int\n",
    "            Size of the problem.\n",
    "        num_problems: int\n",
    "            Number of problem instances to create.\n",
    "        verbosity: bool, optional\n",
    "            Whether to print information during execution. Default is True.\n",
    "\n",
    "    Returns:\n",
    "        problems: list\n",
    "            List of problem instances.\n",
    "    \"\"\"\n",
    "    problems = []\n",
    "    for i in range(num_problems):\n",
    "        C = np.random.beta(1, 1, size=(N, N, N)) * 100  # Cost matrices are uniform in [0, 100]\n",
    "        problems.append(C)\n",
    "\n",
    "    if verbosity:\n",
    "        print(f\"Created {num_problems} problem instances for size {N}.\")\n",
    "\n",
    "        print(\"-\"*10)\n",
    "\n",
    "    return problems\n",
    "\n",
    "def benchmark(N, num_problems, verbosity=True):\n",
    "    \"\"\"\n",
    "    Benchmark different solvers.\n",
    "\n",
    "    Parameters:\n",
    "        N: int\n",
    "            Size of the problem.\n",
    "        num_problems: int\n",
    "            Number of problem instances to create.\n",
    "        verbosity: bool, optional\n",
    "            Whether to print information during execution. Default is True.\n",
    "    \"\"\"\n",
    "    solver_times = []\n",
    "    gurobi_times = []\n",
    "    pulp_times = []\n",
    "\n",
    "    problems = create_problems(N, num_problems, verbosity=verbosity)\n",
    "\n",
    "    fraction_below_threshold = 0\n",
    "\n",
    "    if verbosity:\n",
    "        print(\"Benchmarking Custom Solver:\")\n",
    "    for problem in problems:\n",
    "        start_time = timeit.default_timer()\n",
    "        dual_bounds, primal_bounds, _, _, _, fraction = solver.optimize(problem, learning_rate_scale, algorithm, beta, search_size, learning_rate, max_iterations, threshold)\n",
    "        if verbosity:\n",
    "            print(f\"Objective Value: {primal_bounds[-1]:.2f}, Duality % Gap: {100 * fraction:.2f}%\")\n",
    "        elapsed_time = timeit.default_timer() - start_time\n",
    "\n",
    "        solver_times.append(elapsed_time)\n",
    "\n",
    "        if fraction < threshold:\n",
    "            fraction_below_threshold += 1\n",
    "\n",
    "        cumulative_solver_times = np.cumsum(solver_times)\n",
    "        avg_time = np.mean(solver_times)\n",
    "        percentage_below_threshold = (fraction_below_threshold / len(problems)) * 100\n",
    "    if verbosity:\n",
    "        print(f\"Avg. execution time for Custom Solver: {avg_time:.4f} seconds\")\n",
    "        print(f\"Percentage of time fraction < {threshold * 100:.2f}%: {percentage_below_threshold:.2f}%\")\n",
    "        print(\"-\" * 10)\n",
    "\n",
    "    if verbosity:\n",
    "        print(\"Benchmarking Gurobi Solver:\")\n",
    "    for problem in problems:\n",
    "        start_time = timeit.default_timer()\n",
    "        primal = gurobi.optimize(problem)\n",
    "        if verbosity:\n",
    "            print(f\"Objective Value: {primal:.2f}\")\n",
    "        elapsed_time = timeit.default_timer() - start_time\n",
    "\n",
    "        gurobi_times.append(elapsed_time)\n",
    "\n",
    "        cumulative_gurobi_times = np.cumsum(gurobi_times)\n",
    "        avg_time = np.mean(gurobi_times)\n",
    "    if verbosity:\n",
    "        print(f\"Avg. execution time for Gurobi Solver: {avg_time:.4f} seconds\")\n",
    "        print(\"-\" * 10)\n",
    "\n",
    "    if verbosity:\n",
    "        print(\"Benchmarking PuLP Solver:\")\n",
    "    for problem in problems:\n",
    "        start_time = timeit.default_timer()\n",
    "        primal = pulp.optimize(problem)\n",
    "        if verbosity:\n",
    "            print(f\"Objective Value: {primal:.2f}\")\n",
    "        elapsed_time = timeit.default_timer() - start_time\n",
    "\n",
    "        pulp_times.append(elapsed_time)\n",
    "\n",
    "        cumulative_pulp_times = np.cumsum(pulp_times)\n",
    "        avg_time = np.mean(pulp_times)\n",
    "    if verbosity:\n",
    "        print(f\"Avg. execution time for PuLP Solver: {avg_time:.4f} seconds\")\n",
    "\n",
    "    plt.figure(figsize=(8, 6))\n",
    "\n",
    "    # Custom Solver\n",
    "    plt.plot(np.arange(1, num_problems + 1), cumulative_solver_times, label=\"Custom Solver\", marker='o', color='skyblue')\n",
    "\n",
    "    # PuLP Solver\n",
    "    plt.plot(np.arange(1, num_problems + 1), cumulative_pulp_times, label=\"PuLP Solver\", marker='o', color='orange')\n",
    "\n",
    "    # Gurobi Solver\n",
    "    plt.plot(np.arange(1, num_problems + 1), cumulative_gurobi_times, label=\"Gurobi Solver\", marker='o', color='green')\n",
    "\n",
    "    plt.xlabel(\"Instance\")\n",
    "    plt.ylabel(\"Cumulative Execution Time (seconds)\")\n",
    "    plt.title(f\"Cumulative Execution Time for Different Solvers (Problem Size: {N})\")\n",
    "    plt.legend()\n",
    "    plt.show()\n",
    "\n",
    "def compare(N, num_problems, verbosity=True):\n",
    "    \"\"\"\n",
    "    Compare two custom solvers.\n",
    "\n",
    "    Parameters:\n",
    "        N: int\n",
    "            Size of the problem.\n",
    "        num_problems: int\n",
    "            Number of problem instances to create.\n",
    "        verbosity: bool, optional\n",
    "            Whether to print information during execution. Default is True.\n",
    "    \"\"\"\n",
    "    solver_times_1 = []\n",
    "    solver_times_2 = []\n",
    "\n",
    "    problems = create_problems(N, num_problems, verbosity=verbosity)\n",
    "\n",
    "    fraction_below_threshold = 0\n",
    "\n",
    "    if verbosity:\n",
    "        print(\"Benchmarking Custom Solver 1:\")\n",
    "    for problem in problems:\n",
    "        start_time = timeit.default_timer()\n",
    "        dual_bounds, primal_bounds, _, _, _, fraction = solver.optimize(problem, learning_rate_scale_1, algorithm_1, beta_1, search_size_1, learning_rate_1, max_iterations_1, threshold_1)\n",
    "        if verbosity:\n",
    "            print(f\"Objective Value: {primal_bounds[-1]:.2f}, Duality % Gap: {100 * fraction:.2f}%\")\n",
    "        elapsed_time = timeit.default_timer() - start_time\n",
    "\n",
    "        solver_times_1.append(elapsed_time)\n",
    "\n",
    "        if fraction < threshold_1:\n",
    "            fraction_below_threshold += 1\n",
    "\n",
    "        cumulative_solver_times_1 = np.cumsum(solver_times_1)\n",
    "        avg_time = np.mean(solver_times_1)\n",
    "        percentage_below_threshold = (fraction_below_threshold / len(problems)) * 100\n",
    "    if verbosity:\n",
    "        print(f\"Avg. execution time for Custom Solver 1: {avg_time:.4f} seconds\")\n",
    "        print(f\"Percentage of time fraction < {threshold * 100:.2f}%: {percentage_below_threshold:.2f}%\")\n",
    "\n",
    "    if verbosity:\n",
    "        print(\"-\" * 10)\n",
    "\n",
    "    fraction_below_threshold = 0\n",
    "\n",
    "    if verbosity:\n",
    "        print(\"Benchmarking Custom Solver 2:\")\n",
    "    for problem in problems:\n",
    "        start_time = timeit.default_timer()\n",
    "        dual_bounds, primal_bounds, _, _, _, fraction = solver.optimize(problem, learning_rate_scale_2, algorithm_2, beta_2, search_size_2, learning_rate_2, max_iterations_2, threshold_2)\n",
    "        if verbosity:\n",
    "            print(f\"Objective Value: {primal_bounds[-1]:.2f}, Duality % Gap: {100 * fraction:.2f}%\")\n",
    "        elapsed_time = timeit.default_timer() - start_time\n",
    "\n",
    "        solver_times_2.append(elapsed_time)\n",
    "\n",
    "        if fraction < threshold_2:\n",
    "            fraction_below_threshold += 1\n",
    "\n",
    "        cumulative_solver_times_2 = np.cumsum(solver_times_2)\n",
    "        avg_time = np.mean(solver_times_2)\n",
    "        percentage_below_threshold = (fraction_below_threshold / len(problems)) * 100\n",
    "    if verbosity:\n",
    "        print(f\"Avg. execution time for Custom Solver 2: {avg_time:.4f} seconds\")\n",
    "        print(f\"Percentage of time fraction < {threshold * 100:.2f}%: {percentage_below_threshold:.2f}%\")\n",
    "\n",
    "    plt.figure(figsize=(8, 6))\n",
    "\n",
    "    # Custom Solver\n",
    "    plt.plot(np.arange(1, num_problems + 1), cumulative_solver_times_1, label=\"Custom Solver 1\", marker='o', color='skyblue')\n",
    "\n",
    "    # PuLP Solver\n",
    "    plt.plot(np.arange(1, num_problems + 1), cumulative_solver_times_2, label=\"Custom Solver 2\", marker='o', color='orange')\n",
    "\n",
    "    plt.xlabel(\"Instance\")\n",
    "    plt.ylabel(\"Cumulative Execution Time (seconds)\")\n",
    "    plt.title(f\"Cumulative Execution Time for Different Solvers (Problem Size: {N})\")\n",
    "    plt.legend()\n",
    "    plt.show()\n"
   ]
  },
  {
   "cell_type": "code",
   "execution_count": 6,
   "id": "e92382b7",
   "metadata": {},
   "outputs": [],
   "source": [
    "address = '/Users/jetchung/gurobi.json'"
   ]
  },
  {
   "cell_type": "code",
   "execution_count": 7,
   "id": "b3da7a6f",
   "metadata": {},
   "outputs": [
    {
     "name": "stdout",
     "output_type": "stream",
     "text": [
      "Set parameter WLSAccessID\n",
      "Set parameter WLSSecret\n",
      "Set parameter LicenseID to value 2471762\n",
      "Academic license 2471762 - for non-commercial use only - registered to jo___@hertford.ox.ac.uk\n"
     ]
    }
   ],
   "source": [
    "solver = Solver()\n",
    "gurobi = GurobiSolver(address)\n",
    "pulp = PulpSolver()"
   ]
  },
  {
   "cell_type": "markdown",
   "id": "2829d74a",
   "metadata": {},
   "source": [
    "### Parameters"
   ]
  },
  {
   "cell_type": "code",
   "execution_count": 8,
   "id": "b478966e",
   "metadata": {},
   "outputs": [],
   "source": [
    "learning_rate_scale=\"1/k\" # options: constant, 1/k, 1/sqrt(k)\n",
    "algorithm=\"nesterov\" # options: nesterov, subgradient\n",
    "beta=0.95\n",
    "search_size=10\n",
    "learning_rate=0.1\n",
    "max_iterations=1000\n",
    "threshold=0.05"
   ]
  },
  {
   "cell_type": "code",
   "execution_count": 9,
   "id": "dacbdb4c",
   "metadata": {},
   "outputs": [
    {
     "name": "stdout",
     "output_type": "stream",
     "text": [
      "Created 1 problem instances for size 20.\n",
      "----------\n"
     ]
    }
   ],
   "source": [
    "N = 20\n",
    "\n",
    "C = create_problems(N, 1)[0]\n",
    "\n",
    "dual_bounds, primal_bounds, _, _, _, fraction = solver.optimize(C, learning_rate_scale, algorithm, beta, search_size, learning_rate, max_iterations, threshold)\n",
    "optimal_value = gurobi.optimize(C)"
   ]
  },
  {
   "cell_type": "code",
   "execution_count": 10,
   "id": "2283410b",
   "metadata": {},
   "outputs": [
    {
     "data": {
      "image/png": "[encoded data removed]",
      "text/plain": [
       "<Figure size 576x432 with 1 Axes>"
      ]
     },
     "metadata": {
      "needs_background": "light"
     },
     "output_type": "display_data"
    }
   ],
   "source": [
    "plt.figure(figsize=(8, 6))\n",
    "\n",
    "plt.plot(dual_bounds, label='Dual Bound', color = \"skyblue\", alpha = 0.7)\n",
    "plt.plot(primal_bounds, label = 'Primal Bound', color = \"orange\", alpha = 0.7)\n",
    "\n",
    "plt.axhline(y=optimal_value, color='gray', linestyle='--', label='Optimal Value')\n",
    "\n",
    "plt.xlabel('Iterations')\n",
    "plt.ylabel('Objective Value')\n",
    "plt.title(f\"Primal and Dual Bounds, within {fraction * 100:.2f}% of optimal\", fontsize = 16)\n",
    "plt.legend()\n",
    "plt.show()"
   ]
  },
  {
   "cell_type": "markdown",
   "id": "48860eab",
   "metadata": {},
   "source": [
    "# Benchmark against other commerical solvers"
   ]
  },
  {
   "cell_type": "code",
   "execution_count": 11,
   "id": "1646cc64",
   "metadata": {},
   "outputs": [],
   "source": [
    "N = 35\n",
    "num_problems = 5\n",
    "\n",
    "learning_rate_scale=\"1/k\"\n",
    "algorithm=\"nesterov\"\n",
    "beta=0.95\n",
    "search_size=10\n",
    "learning_rate=0.1\n",
    "max_iterations=1000\n",
    "threshold=0.05\n"
   ]
  },
  {
   "cell_type": "code",
   "execution_count": null,
   "id": "68b33780",
   "metadata": {},
   "outputs": [
    {
     "name": "stdout",
     "output_type": "stream",
     "text": [
      "Created 5 problem instances for size 35.\n",
      "----------\n",
      "Benchmarking Custom Solver:\n",
      "Objective Value: 3359.66, Duality % Gap: 3.98%\n",
      "Objective Value: 3334.68, Duality % Gap: 4.76%\n",
      "Objective Value: 3377.99, Duality % Gap: 3.44%\n",
      "Objective Value: 3346.59, Duality % Gap: 4.41%\n",
      "Objective Value: 3229.39, Duality % Gap: 8.20%\n",
      "Avg. execution time for Custom Solver: 0.4742 seconds\n",
      "Percentage of time fraction < 5.00%: 80.00%\n",
      "----------\n",
      "Benchmarking Gurobi Solver:\n",
      "Objective Value: 3491.35\n",
      "Objective Value: 3491.90\n",
      "Objective Value: 3492.49\n",
      "Objective Value: 3492.37\n",
      "Objective Value: 3492.92\n",
      "Avg. execution time for Gurobi Solver: 19.7722 seconds\n",
      "----------\n",
      "Benchmarking PuLP Solver:\n",
      "Objective Value: 3491.35\n",
      "Objective Value: 3491.97\n",
      "Objective Value: 3492.59\n"
     ]
    }
   ],
   "source": [
    "benchmark(N, num_problems, True)"
   ]
  },
  {
   "cell_type": "markdown",
   "id": "bf8acea5",
   "metadata": {},
   "source": [
    "# Comparison of Parameters"
   ]
  },
  {
   "cell_type": "code",
   "execution_count": 243,
   "id": "6d7c9c14",
   "metadata": {},
   "outputs": [],
   "source": [
    "learning_rate_scale_1=\"1/k\"\n",
    "algorithm_1=\"nesterov\"\n",
    "beta_1=0.95\n",
    "search_size_1=10\n",
    "learning_rate_1=0.1\n",
    "max_iterations_1=1000\n",
    "threshold_1=0.05\n",
    "\n",
    "\n",
    "learning_rate_scale_2=\"constant\"\n",
    "algorithm_2=\"subgradient\"\n",
    "beta_2=0\n",
    "search_size_2=10\n",
    "learning_rate_2=0.1\n",
    "max_iterations_2=1000\n",
    "threshold_2=0.05"
   ]
  },
  {
   "cell_type": "code",
   "execution_count": 245,
   "id": "2801cf48",
   "metadata": {},
   "outputs": [
    {
     "data": {
      "image/png": "[encoded data removed]",
      "text/plain": [
       "<Figure size 576x432 with 1 Axes>"
      ]
     },
     "metadata": {
      "needs_background": "light"
     },
     "output_type": "display_data"
    }
   ],
   "source": [
    "compare(20, 20, False)"
   ]
  },
  {
   "cell_type": "code",
   "execution_count": null,
   "id": "65cfd8cc",
   "metadata": {},
   "outputs": [],
   "source": []
  }
 ],
 "metadata": {
  "kernelspec": {
   "display_name": "Python 3 (ipykernel)",
   "language": "python",
   "name": "python3"
  },
  "language_info": {
   "codemirror_mode": {
    "name": "ipython",
    "version": 3
   },
   "file_extension": ".py",
   "mimetype": "text/x-python",
   "name": "python",
   "nbconvert_exporter": "python",
   "pygments_lexer": "ipython3",
   "version": "3.9.12"
  }
 },
 "nbformat": 4,
 "nbformat_minor": 5
}
