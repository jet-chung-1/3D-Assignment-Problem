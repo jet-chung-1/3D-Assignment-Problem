{
 "cells": [
  {
   "cell_type": "code",
   "execution_count": 1,
   "id": "8e9a6505",
   "metadata": {},
   "outputs": [],
   "source": [
    "from sys import path\n",
    "path.append('../3DAssignmentSolver')\n",
    "\n",
    "import time\n",
    "import numpy as np\n",
    "from main_optimized import Solver\n",
    "import pyinstrument"
   ]
  },
  {
   "cell_type": "code",
   "execution_count": 2,
   "id": "d63b0205",
   "metadata": {},
   "outputs": [
    {
     "name": "stdout",
     "output_type": "stream",
     "text": [
      "\n",
      "\n",
      "--------------------------------------------------\n",
      "Initializing Solver with parameters:\n",
      "--------------------------------------------------\n",
      "Beta: 0.95\n",
      "Learning Rate: 0.1\n",
      "Maximum Iterations: 100\n",
      "Stopping Threshold: 0.01\n",
      "--------------------------------------------------\n",
      "Finished initializing Solver.\n",
      "--------------------------------------------------\n"
     ]
    }
   ],
   "source": [
    "N = 500\n",
    "np.random.seed(0)\n",
    "C = np.random.uniform(0, 100, size=(N, N, N))\n",
    "solver = Solver(max_iterations=100, threshold=0.01, verbosity = True)\n",
    "profiler = pyinstrument.Profiler()"
   ]
  },
  {
   "cell_type": "code",
   "execution_count": 3,
   "id": "737591fa",
   "metadata": {},
   "outputs": [
    {
     "name": "stdout",
     "output_type": "stream",
     "text": [
      "\n",
      "\n",
      "Starting Nesterov accelerated gradient algorithm...\n",
      "--------------------------------------------------\n",
      "Starting greedy search:\n",
      "--------------------------------------------------\n",
      "Iteration: 1\n",
      "Primal Value: 49868.64, Dual value: 49999.661, Duality %: 0.26%\n",
      "Maximum value found on k-indices with value: 94.3380585911869 and indices: (94, 437)\n",
      "--------------------------------------------------\n",
      "Iteration: 2\n",
      "Primal Value: 49962.97, Dual value: 49999.661, Duality %: 0.07%\n",
      "Maximum value found on j-indices with value: 10.112541559146067 and indices: (311, 494)\n",
      "--------------------------------------------------\n",
      "Iteration: 3\n",
      "Primal Value: 49973.09, Dual value: 49999.661, Duality %: 0.05%\n",
      "Maximum value found on k-indices with value: 6.266062179275323 and indices: (197, 208)\n",
      "--------------------------------------------------\n",
      "Iteration: 4\n",
      "Primal Value: 49979.35, Dual value: 49999.661, Duality %: 0.04%\n",
      "Maximum value found on j-indices with value: 2.4830470417198853 and indices: (214, 295)\n",
      "--------------------------------------------------\n",
      "Iteration: 5\n",
      "Primal Value: 49981.84, Dual value: 49999.661, Duality %: 0.04%\n",
      "Maximum value found on i-indices with value: 0.4001240469883953 and indices: (285, 404)\n",
      "--------------------------------------------------\n",
      "Iteration: 6\n",
      "Primal Value: 49982.24, Dual value: 49999.661, Duality %: 0.03%\n",
      "No further swaps found. Breaking...\n",
      "--------------------------------------------------\n",
      "\n",
      "\n",
      "\n",
      "\n",
      "Starting descent...\n",
      "--------------------------------------------------\n",
      "Nesterov algorithm finished with primal value 49982.237, dual value 49999.661 and duality % 0.03%\n",
      "--------------------------------------------------\n",
      "\n",
      "\n",
      "Performing local search on primal...\n",
      "--------------------------------------------------\n",
      "Iteration: 1\n",
      "Primal Value: 49982.24, Dual value: 49999.661, Duality %: 0.03%\n",
      "No further swaps found. Breaking...\n",
      "--------------------------------------------------\n",
      "\n",
      "\n",
      "--------------------------------------------------\n",
      "FINISHED OPTIMIZATION\n",
      "--------------------------------------------------\n",
      "SEARCH VALUES\n",
      "Greedy value: 49868.63685207059\n",
      "Greedy + 2OPT value: 49982.23668548891\n",
      "Best value: 49982.23668548891\n",
      "--------------------------------------------------\n",
      "OPTIMIZATION RESULTS\n",
      "Primal: 49982.24 <= Value: 49982.24 <= Dual: 49999.66, duality %: 0.034860%, feasiblity: True\n",
      "--------------------------------------------------\n",
      "\n",
      "  _     ._   __/__   _ _  _  _ _/_   Recorded: 03:54:56  Samples:  1049\n",
      " /_//_/// /_\\ / //_// / //_'/ //     Duration: 65.383    CPU time: 55.513\n",
      "/   _/                      v4.6.2\n",
      "\n",
      "Program: /Users/jetchung/opt/anaconda3/lib/python3.9/site-packages/ipykernel_launcher.py -f /Users/jetchung/Library/Jupyter/runtime/kernel-50ea3a89-6987-441d-a3bd-9689dbc48d8a.json\n",
      "\n",
      "\u001b[31m65.381\u001b[0m ZMQInteractiveShell.run_ast_nodes\u001b[0m  \u001b[2mIPython/core/interactiveshell.py:3209\u001b[0m\n",
      "└─ \u001b[31m65.380\u001b[0m \u001b[48;5;24m\u001b[38;5;15m<cell line: 3>\u001b[0m  \u001b[2m../../../../../../var/folders/jv/2k_pqb6j1455zljdchhw7tpc0000gn/T/ipykernel_87258/1998096011.py:3\u001b[0m\n",
      "   └─ \u001b[31m65.380\u001b[0m \u001b[48;5;24m\u001b[38;5;15mSolver.optimize\u001b[0m  \u001b[2mmain_optimized.py:56\u001b[0m\n",
      "      ├─ \u001b[31m48.408\u001b[0m \u001b[48;5;24m\u001b[38;5;15mSolver.greedy\u001b[0m  \u001b[2mmain_optimized.py:202\u001b[0m\n",
      "      │  ├─ \u001b[31m45.171\u001b[0m argmax\u001b[0m  \u001b[2mnumpy/core/fromnumeric.py:1140\u001b[0m\n",
      "      │  │     [3 frames hidden]  \u001b[2mnumpy, <built-in>\u001b[0m\n",
      "      │  │        \u001b[31m45.129\u001b[0m ndarray.argmax\u001b[0m  \u001b[2m<built-in>\u001b[0m\n",
      "      │  ├─ \u001b[92m\u001b[2m2.252\u001b[0m [self]\u001b[0m  \u001b[2mmain_optimized.py\u001b[0m\n",
      "      │  └─ \u001b[92m\u001b[2m0.831\u001b[0m ndarray.copy\u001b[0m  \u001b[2m<built-in>\u001b[0m\n",
      "      ├─ \u001b[33m15.831\u001b[0m \u001b[48;5;24m\u001b[38;5;15mSolver.local_process\u001b[0m  \u001b[2mmain_optimized.py:222\u001b[0m\n",
      "      │  └─ \u001b[33m15.503\u001b[0m [self]\u001b[0m  \u001b[2mmain_optimized.py\u001b[0m\n",
      "      └─ \u001b[92m\u001b[2m0.995\u001b[0m \u001b[48;5;24m\u001b[38;5;15mSolver.objective_func\u001b[0m  \u001b[2mmain_optimized.py:39\u001b[0m\n",
      "         └─ \u001b[92m\u001b[2m0.813\u001b[0m [self]\u001b[0m  \u001b[2mmain_optimized.py\u001b[0m\n",
      "\n",
      "\n"
     ]
    }
   ],
   "source": [
    "profiler.start()\n",
    "\n",
    "d, p, x, v = solver.optimize(C)\n",
    "end = time.time()\n",
    "\n",
    "profiler.stop()\n",
    "print(profiler.output_text(unicode=True, color=True))"
   ]
  }
 ],
 "metadata": {
  "kernelspec": {
   "display_name": "Python 3 (ipykernel)",
   "language": "python",
   "name": "python3"
  },
  "language_info": {
   "codemirror_mode": {
    "name": "ipython",
    "version": 3
   },
   "file_extension": ".py",
   "mimetype": "text/x-python",
   "name": "python",
   "nbconvert_exporter": "python",
   "pygments_lexer": "ipython3",
   "version": "3.9.12"
  }
 },
 "nbformat": 4,
 "nbformat_minor": 5
}
