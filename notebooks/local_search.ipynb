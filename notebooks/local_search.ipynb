{
 "cells": [
  {
   "cell_type": "code",
   "execution_count": 109,
   "metadata": {},
   "outputs": [],
   "source": [
    "import numpy as np\n",
    "from sys import path\n",
    "path.append('../3DAssignmentSolver')\n",
    "\n",
    "from main import Solver\n",
    "from utils import create_problems, duality_visualizer\n"
   ]
  },
  {
   "cell_type": "code",
   "execution_count": 2,
   "metadata": {},
   "outputs": [],
   "source": [
    "from scipy.optimize import linear_sum_assignment\n"
   ]
  },
  {
   "cell_type": "code",
   "execution_count": 437,
   "metadata": {},
   "outputs": [],
   "source": [
    "N = 2\n",
    "x = np.zeros((N,N,N))\n",
    "x[0,0,0] = 1\n",
    "x[0,1,0] = 0\n",
    "x[1,0,0] = 0\n",
    "x[1,1,0] = 1\n",
    "\n",
    "x[0,0,1] = 0\n",
    "x[0,1,1] = 0\n",
    "x[1,0,1] = 0\n",
    "x[1,1,1] = 0\n",
    "np.random.seed(42)\n",
    "C = np.random.randint(1, 10, size = (N, N, N))\n"
   ]
  },
  {
   "cell_type": "code",
   "execution_count": 417,
   "metadata": {},
   "outputs": [],
   "source": [
    "solver = Solver()"
   ]
  },
  {
   "cell_type": "code",
   "execution_count": 605,
   "metadata": {},
   "outputs": [],
   "source": [
    "\n",
    "# still need to numpy this all\n",
    "def local_construct(x):\n",
    "    x_copy = x.copy()\n",
    "    N = np.shape(x)[0]\n",
    "    ct = 0\n",
    "    while ct < N:\n",
    "        S = np.sum(x_copy, axis=(0, 1))\n",
    "        A = np.where(S == 0)[0]\n",
    "        B = np.where(S > 1)[0]\n",
    "        E = np.where(S == 1)[0]\n",
    "#         print(f\" < 1: {A}, > 1: {B}, = 1 {E}\")\n",
    "        if len(A) == 0:\n",
    "            break \n",
    "        else:\n",
    "            D = np.full((N, N), -np.inf)\n",
    "            argmax_diff = np.full((N, N, 2), -np.inf)  # 3D array to store indices (i, j, k, l)\n",
    "            for i in range(N):\n",
    "                for j in range(N):\n",
    "                    A = np.where((x_copy[i, j, :] == 0) & (S == 0))[0] # Get the indices where both x and S are 0\n",
    "                    B = np.where((x_copy[i, j, :] > 0) & (S > 1))[0]   # Get the indices where x > 0 and S > 1\n",
    "                    if len(A) > 0 and len(B) > 0:\n",
    "                        max_diff = -np.inf\n",
    "                        for k in A:\n",
    "                            for l in B:\n",
    "                                diff = C[i, j, k] - C[i, j, l]\n",
    "                                if diff > max_diff:\n",
    "                                    max_diff = diff\n",
    "                                    argmax_diff[i, j] = [k, l]  # Store the indices of the maximizing values\n",
    "                        D[i, j] = max_diff\n",
    "\n",
    "            i, j = np.unravel_index(np.argmax(D), (N,N))\n",
    "            k, l = argmax_diff[i,j]\n",
    "            x_copy[i, j, int(k)] = 1\n",
    "            x_copy[i, j, int(l)] = 0\n",
    "\n",
    "#             print(f\"swap {i,j,k} <- 1, {i, j, l} <- 0\")\n",
    "#             print(f\"change by {C[i,j,int(k)] - C[i,j,int(l)]}\" )\n",
    "            \n",
    "#             print(\"-\"*50)\n",
    "            \n",
    "            ct += 1\n",
    "    return x_copy\n"
   ]
  },
  {
   "cell_type": "code",
   "execution_count": 614,
   "metadata": {},
   "outputs": [
    {
     "name": "stdout",
     "output_type": "stream",
     "text": [
      "first coef: 0.03781648924200275\n",
      "opt-val: 3811.6865162576023\n",
      "feasible: False\n",
      "x-val: 3972.27559733575\n"
     ]
    }
   ],
   "source": [
    "N = 40\n",
    "u = np.random.uniform(0, 10, N)\n",
    "\n",
    "\n",
    "# C = np.zeros((2,2,2))\n",
    "# C[0,0,0]=10\n",
    "# C[0,0,1]=15\n",
    "# C[1,1,0]=50\n",
    "# C[1,1,1]=25\n",
    "\n",
    "np.random.seed(1)\n",
    "C = create_problems(N, 1, verbosity=False)[0]\n",
    "\n",
    "print(f\"first coef: {C[0,0,0]}\")\n",
    "dual_bounds, primal_bounds, sol, val, _, _ = solver.optimize(C)\n",
    "print(f\"opt-val: {val}\")\n",
    "\n",
    "u = u.reshape(1, 1, -1)\n",
    "sum_C_u = C + u\n",
    "\n",
    "max_indices = np.argmax(sum_C_u, axis=-1)\n",
    "D = sum_C_u[np.arange(N)[:, None], np.arange(N), max_indices]\n",
    "K = max_indices.squeeze()\n",
    "\n",
    "rows, cols = linear_sum_assignment(-D)\n",
    "\n",
    "x = np.zeros((N, N, N), dtype=int)\n",
    "x[rows, cols, K[rows, cols]] = 1\n",
    "\n",
    "print(f\"feasible: {solver.is_feasible(x)}\")\n",
    "print(f\"x-val: {solver.value(x)}\")\n"
   ]
  },
  {
   "cell_type": "code",
   "execution_count": 620,
   "metadata": {},
   "outputs": [],
   "source": [
    "def generate_bounds(n, C):\n",
    "    bounds = []\n",
    "    for _ in range(n):\n",
    "        u = np.random.uniform(0, 0, N)\n",
    "        u = u.reshape(1, 1, -1)\n",
    "        sum_C_u = C + u\n",
    "        \n",
    "        max_indices = np.argmax(sum_C_u, axis=-1)\n",
    "        D = sum_C_u[np.arange(N)[:, None], np.arange(N), max_indices]\n",
    "        K = max_indices.squeeze()\n",
    "\n",
    "        rows, cols = linear_sum_assignment(-D)\n",
    "\n",
    "        x = np.zeros((N, N, N), dtype=int)\n",
    "        x[rows, cols, K[rows, cols]] = 1\n",
    "\n",
    "        x_new = local_construct(x)\n",
    "        \n",
    "        if solver.is_feasible(x_new):\n",
    "            bounds.append(solver.value(x_new))\n",
    "        print(solver.is_feasible(x_new))\n",
    "    return bounds\n"
   ]
  },
  {
   "cell_type": "code",
   "execution_count": 623,
   "metadata": {},
   "outputs": [
    {
     "data": {
      "text/plain": [
       "3837.781766973094"
      ]
     },
     "execution_count": 623,
     "metadata": {},
     "output_type": "execute_result"
    }
   ],
   "source": [
    "\n",
    "\n",
    "max_indices = np.argmax(C, axis=-1)\n",
    "D = C[np.arange(N)[:, None], np.arange(N), max_indices]\n",
    "K = max_indices.squeeze()\n",
    "\n",
    "rows, cols = linear_sum_assignment(-D)\n",
    "\n",
    "x = np.zeros((N, N, N), dtype=int)\n",
    "x[rows, cols, K[rows, cols]] = 1\n",
    "\n",
    "x_new = local_construct(x)\n",
    "        \n",
    "\n",
    "\n",
    "solver.is_feasible(x_new)\n",
    "\n",
    "solver.value(x_new)\n",
    "\n"
   ]
  },
  {
   "cell_type": "code",
   "execution_count": 621,
   "metadata": {},
   "outputs": [
    {
     "name": "stdout",
     "output_type": "stream",
     "text": [
      "True\n"
     ]
    },
    {
     "data": {
      "text/plain": [
       "[3837.781766973094]"
      ]
     },
     "execution_count": 621,
     "metadata": {},
     "output_type": "execute_result"
    }
   ],
   "source": [
    "bounds = generate_bounds(1, C)\n",
    "bounds"
   ]
  },
  {
   "cell_type": "code",
   "execution_count": 617,
   "metadata": {},
   "outputs": [
    {
     "data": {
      "text/plain": [
       "3837.781766973094"
      ]
     },
     "execution_count": 617,
     "metadata": {},
     "output_type": "execute_result"
    }
   ],
   "source": [
    "ls_bound = np.max(bounds)\n",
    "ls_bound"
   ]
  },
  {
   "cell_type": "code",
   "execution_count": 618,
   "metadata": {
    "scrolled": true
   },
   "outputs": [
    {
     "data": {
      "image/png": "[encoded data removed]",
      "text/plain": [
       "<Figure size 576x432 with 1 Axes>"
      ]
     },
     "metadata": {
      "needs_background": "light"
     },
     "output_type": "display_data"
    }
   ],
   "source": [
    "fraction = (dual_bounds[-1] - primal_bounds[-1]) / primal_bounds[-1]\n",
    "halfway_point = (dual_bounds[-1] + primal_bounds[-1]) / 2\n",
    "\n",
    "plt.figure(figsize=(8, 6))\n",
    "\n",
    "colors = sns.color_palette(\"Set2\", 2)\n",
    "\n",
    "plt.plot(dual_bounds, label='Dual Bound', color=colors[0], alpha=0.7)\n",
    "plt.plot(primal_bounds, label='Primal Bound', color=colors[1], alpha=0.7)\n",
    "\n",
    "plt.axhline(y=halfway_point, color='gray', linestyle='--', label='Halfway Point')\n",
    "plt.axhline(y=ls_bound, color='black', linestyle='--', label='Local Search Bound')\n",
    "\n",
    "plt.xlabel('Iterations', fontsize=12)\n",
    "plt.ylabel('Objective Value', fontsize=12)\n",
    "plt.title(f'Primal and Dual Bounds, within {fraction * 100:.2f}% of optimal')\n",
    "\n",
    "plt.legend()\n",
    "plt.show()"
   ]
  },
  {
   "cell_type": "code",
   "execution_count": 536,
   "metadata": {},
   "outputs": [],
   "source": [
    "import seaborn as sns"
   ]
  },
  {
   "cell_type": "code",
   "execution_count": 548,
   "metadata": {},
   "outputs": [
    {
     "data": {
      "text/plain": [
       "1457.6880785246854"
      ]
     },
     "execution_count": 548,
     "metadata": {},
     "output_type": "execute_result"
    }
   ],
   "source": [
    "halfway_point"
   ]
  },
  {
   "cell_type": "code",
   "execution_count": 619,
   "metadata": {},
   "outputs": [
    {
     "data": {
      "text/plain": [
       "3811.6865162576023"
      ]
     },
     "execution_count": 619,
     "metadata": {},
     "output_type": "execute_result"
    }
   ],
   "source": [
    "primal_bounds[-1]"
   ]
  },
  {
   "cell_type": "code",
   "execution_count": null,
   "metadata": {},
   "outputs": [],
   "source": []
  }
 ],
 "metadata": {
  "kernelspec": {
   "display_name": "Python 3 (ipykernel)",
   "language": "python",
   "name": "python3"
  },
  "language_info": {
   "codemirror_mode": {
    "name": "ipython",
    "version": 3
   },
   "file_extension": ".py",
   "mimetype": "text/x-python",
   "name": "python",
   "nbconvert_exporter": "python",
   "pygments_lexer": "ipython3",
   "version": "3.9.12"
  }
 },
 "nbformat": 4,
 "nbformat_minor": 2
}
