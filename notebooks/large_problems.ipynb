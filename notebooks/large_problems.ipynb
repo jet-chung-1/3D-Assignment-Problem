{
 "cells": [
  {
   "cell_type": "code",
   "execution_count": 1,
   "id": "5c9b7bb1",
   "metadata": {},
   "outputs": [],
   "source": [
    "from sys import path\n",
    "path.append('../3DAssignmentSolver')\n",
    "\n",
    "import time\n",
    "import numpy as np\n",
    "from main_optimized import Solver\n",
    "import pyinstrument"
   ]
  },
  {
   "cell_type": "code",
   "execution_count": 2,
   "id": "855c86fd",
   "metadata": {},
   "outputs": [
    {
     "name": "stdout",
     "output_type": "stream",
     "text": [
      "\n",
      "\n",
      "--------------------------------------------------\n",
      "Initializing Solver with parameters:\n",
      "--------------------------------------------------\n",
      "Beta: 0.95\n",
      "Learning Rate: 0.1\n",
      "Maximum Iterations: 100\n",
      "Stopping Threshold: 0.01\n",
      "--------------------------------------------------\n",
      "Finished initializing Solver.\n",
      "--------------------------------------------------\n"
     ]
    }
   ],
   "source": [
    "N = 500\n",
    "np.random.seed(0)\n",
    "C = np.random.uniform(0, 100, size=(N, N, N))\n",
    "solver = Solver(max_iterations=100, threshold=0.01, verbosity = True)\n",
    "profiler = pyinstrument.Profiler()"
   ]
  },
  {
   "cell_type": "code",
   "execution_count": null,
   "id": "3836b902",
   "metadata": {},
   "outputs": [
    {
     "name": "stdout",
     "output_type": "stream",
     "text": [
      "\n",
      "\n",
      "Starting Nesterov accelerated gradient algorithm...\n",
      "--------------------------------------------------\n",
      "Starting greedy search:\n"
     ]
    }
   ],
   "source": [
    "profiler.start()\n",
    "\n",
    "d, p, x, v = solver.optimize(C)\n",
    "end = time.time()\n",
    "\n",
    "profiler.stop()\n",
    "print(profiler.output_text(unicode=True, color=True))"
   ]
  }
 ],
 "metadata": {
  "kernelspec": {
   "display_name": "Python 3 (ipykernel)",
   "language": "python",
   "name": "python3"
  },
  "language_info": {
   "codemirror_mode": {
    "name": "ipython",
    "version": 3
   },
   "file_extension": ".py",
   "mimetype": "text/x-python",
   "name": "python",
   "nbconvert_exporter": "python",
   "pygments_lexer": "ipython3",
   "version": "3.9.12"
  }
 },
 "nbformat": 4,
 "nbformat_minor": 5
}
